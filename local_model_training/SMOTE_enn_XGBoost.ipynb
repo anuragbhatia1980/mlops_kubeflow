{
 "cells": [
  {
   "cell_type": "code",
   "execution_count": 30,
   "metadata": {},
   "outputs": [],
   "source": [
    "import os\n",
    "\n",
    "import pandas as pd\n",
    "import xgboost as xgb\n",
    "from sklearn import preprocessing\n",
    "\n",
    "from sklearn.metrics import roc_auc_score, recall_score, classification_report, confusion_matrix\n",
    "\n",
    "from imblearn.under_sampling import EditedNearestNeighbours\n",
    "from imblearn.over_sampling import SMOTE\n",
    "from imblearn.pipeline import make_pipeline\n",
    "\n",
    "from yellowbrick.classifier import ClassificationReport, ROCAUC, PrecisionRecallCurve, ConfusionMatrix\n",
    "import matplotlib.pyplot as plt"
   ]
  },
  {
   "cell_type": "code",
   "execution_count": 31,
   "metadata": {},
   "outputs": [],
   "source": [
    "%config Completer.use_jedi = False  # for auto-completion"
   ]
  },
  {
   "cell_type": "markdown",
   "metadata": {},
   "source": [
    "## Get train and validation datasets"
   ]
  },
  {
   "cell_type": "code",
   "execution_count": 32,
   "metadata": {},
   "outputs": [
    {
     "data": {
      "text/plain": [
       "((115386, 143), (28847, 143))"
      ]
     },
     "execution_count": 32,
     "metadata": {},
     "output_type": "execute_result"
    }
   ],
   "source": [
    "TRAINING_FILE_PATH = \"gs://card_fraud_asl_project/card_fraud_train_encoded_dataset.parquet\"  # <-- Change this\n",
    "VALIDATION_FILE_PATH = \"gs://card_fraud_asl_project/card_fraud_val_encoded_dataset.parquet\"  # <-- Change this\n",
    "\n",
    "df_train = pd.read_parquet(TRAINING_FILE_PATH)\n",
    "df_validation = pd.read_parquet(VALIDATION_FILE_PATH)\n",
    "\n",
    "df_train.shape, df_validation.shape"
   ]
  },
  {
   "cell_type": "markdown",
   "metadata": {},
   "source": [
    "## Data preprocessing?"
   ]
  },
  {
   "cell_type": "code",
   "execution_count": 33,
   "metadata": {},
   "outputs": [
    {
     "data": {
      "text/plain": [
       "Index(['TransactionID', 'isFraud', 'TransactionDT', 'TransactionAmt', 'card1',\n",
       "       'card2', 'card3', 'C1', 'C2', 'C11',\n",
       "       ...\n",
       "       'R_emaildomain_web.de', 'R_emaildomain_windstream.net',\n",
       "       'R_emaildomain_yahoo.co.jp', 'R_emaildomain_yahoo.co.uk',\n",
       "       'R_emaildomain_yahoo.com', 'R_emaildomain_yahoo.com.mx',\n",
       "       'R_emaildomain_yahoo.de', 'R_emaildomain_yahoo.es',\n",
       "       'R_emaildomain_yahoo.fr', 'R_emaildomain_ymail.com'],\n",
       "      dtype='object', length=143)"
      ]
     },
     "execution_count": 33,
     "metadata": {},
     "output_type": "execute_result"
    }
   ],
   "source": [
    "df_train.columns"
   ]
  },
  {
   "cell_type": "markdown",
   "metadata": {},
   "source": [
    "Separation of numerical and categorical columns"
   ]
  },
  {
   "cell_type": "code",
   "execution_count": 34,
   "metadata": {},
   "outputs": [],
   "source": [
    "# numeric_feature_columns = ['TransactionID', 'isFraud', \n",
    "#                            'TransactionDT', 'TransactionAmt',\n",
    "#                            'card1', 'card2', 'card3',  \n",
    "#                            'C1', 'C2', 'C11', 'C12', 'C13', 'C14', 'D8', 'V45',\n",
    "#                            'V87', 'V258']\n",
    "\n",
    "# categorical_feature_columns = ['ProductCD', 'card6',\n",
    "#                                'P_emaildomain', 'R_emaildomain',]"
   ]
  },
  {
   "cell_type": "markdown",
   "metadata": {},
   "source": [
    "## X:y split"
   ]
  },
  {
   "cell_type": "code",
   "execution_count": 35,
   "metadata": {},
   "outputs": [],
   "source": [
    "y_train = df_train.isFraud # target/label column\n",
    "X_train = df_train.drop('isFraud', \n",
    "                        axis=1, # columns\n",
    "                        inplace=False) # The original dataframe df remains the same\n",
    "\n",
    "y_validation = df_validation.isFraud # target/label column\n",
    "X_validation = df_validation.drop('isFraud', \n",
    "                                  axis=1, # columns\n",
    "                                  inplace=False) # The original dataframe df remains the same"
   ]
  },
  {
   "cell_type": "markdown",
   "metadata": {},
   "source": [
    "Sanity-check: whether columns match?"
   ]
  },
  {
   "cell_type": "code",
   "execution_count": 36,
   "metadata": {},
   "outputs": [
    {
     "data": {
      "text/plain": [
       "((115386, 142), (28847, 142))"
      ]
     },
     "execution_count": 36,
     "metadata": {},
     "output_type": "execute_result"
    }
   ],
   "source": [
    "X_train.shape, X_validation.shape"
   ]
  },
  {
   "cell_type": "code",
   "execution_count": 37,
   "metadata": {},
   "outputs": [
    {
     "data": {
      "text/plain": [
       "((115386,), (28847,))"
      ]
     },
     "execution_count": 37,
     "metadata": {},
     "output_type": "execute_result"
    }
   ],
   "source": [
    "y_train.shape, y_validation.shape"
   ]
  },
  {
   "cell_type": "markdown",
   "metadata": {},
   "source": [
    "Replace missing values, with 0"
   ]
  },
  {
   "cell_type": "code",
   "execution_count": 38,
   "metadata": {},
   "outputs": [],
   "source": [
    "X_train = X_train.fillna(0)\n",
    "y_train = y_train.fillna(0)\n",
    "\n",
    "X_validation = X_validation.fillna(0)\n",
    "y_validation = y_validation.fillna(0)"
   ]
  },
  {
   "cell_type": "markdown",
   "metadata": {},
   "source": [
    "Scaling"
   ]
  },
  {
   "cell_type": "code",
   "execution_count": 39,
   "metadata": {},
   "outputs": [],
   "source": [
    "scaler = preprocessing.MinMaxScaler() # for numerical data\n",
    "\n",
    "# fit as well as transform the training data\n",
    "scaler.fit(X_train) \n",
    "X_train = scaler.transform(X_train)\n",
    "\n",
    "X_validation = scaler.transform(X_validation) # ONLY transform - NOT fit - on the validation (test) data"
   ]
  },
  {
   "cell_type": "code",
   "execution_count": null,
   "metadata": {},
   "outputs": [],
   "source": []
  },
  {
   "cell_type": "markdown",
   "metadata": {},
   "source": [
    "## Model selection and training"
   ]
  },
  {
   "cell_type": "code",
   "execution_count": 40,
   "metadata": {},
   "outputs": [
    {
     "name": "stderr",
     "output_type": "stream",
     "text": [
      "/opt/conda/lib/python3.7/site-packages/xgboost/sklearn.py:888: UserWarning: The use of label encoder in XGBClassifier is deprecated and will be removed in a future release. To remove this warning, do the following: 1) Pass option use_label_encoder=False when constructing XGBClassifier object; and 2) Encode your labels (y) as integers starting with 0, i.e. 0, 1, 2, ..., [num_class - 1].\n",
      "  warnings.warn(label_encoder_deprecation_msg, UserWarning)\n"
     ]
    },
    {
     "name": "stdout",
     "output_type": "stream",
     "text": [
      "[08:56:03] WARNING: ../src/learner.cc:1061: Starting in XGBoost 1.3.0, the default evaluation metric used with the objective 'binary:logistic' was changed from 'error' to 'logloss'. Explicitly set eval_metric if you'd like to restore the old behavior.\n"
     ]
    },
    {
     "data": {
      "text/plain": [
       "Pipeline(steps=[('smote', SMOTE(random_state=0)),\n",
       "                ('editednearestneighbours', EditedNearestNeighbours()),\n",
       "                ('xgbclassifier',\n",
       "                 XGBClassifier(base_score=0.5, booster='gbtree',\n",
       "                               colsample_bylevel=1, colsample_bynode=1,\n",
       "                               colsample_bytree=1, gamma=0, gpu_id=-1,\n",
       "                               importance_type='gain',\n",
       "                               interaction_constraints='', learning_rate=0.08,\n",
       "                               max_delta_step=0, max_depth=12,\n",
       "                               min_child_weight=1, missing=nan,\n",
       "                               monotone_constraints='()', n_estimators=100,\n",
       "                               n_jobs=2, num_parallel_tree=1, random_state=42,\n",
       "                               reg_alpha=0, reg_lambda=1, scale_pos_weight=2,\n",
       "                               subsample=1, tree_method='exact',\n",
       "                               validate_parameters=1, verbosity=None))])"
      ]
     },
     "execution_count": 40,
     "metadata": {},
     "output_type": "execute_result"
    }
   ],
   "source": [
    "smote = SMOTE(random_state=0)  # minority over-sampling\n",
    "\n",
    "enn = EditedNearestNeighbours()  # majority under-sampling\n",
    "\n",
    "xgb_class = xgb.XGBClassifier(random_state=42,\n",
    "                              max_depth=12,\n",
    "                              learning_rate=0.08,\n",
    "                              objective=\"binary:logistic\",\n",
    "                              n_jobs=2,\n",
    "                              scale_pos_weight=2)  # Assumption: ratio of majority:minority class must have been much < 11 now.\n",
    "                                                   # Reason: minority over-sampling and majority under-sampling\n",
    "\n",
    "model = make_pipeline(smote, enn, xgb_class)\n",
    "model.fit(X_train, y_train)\n"
   ]
  },
  {
   "cell_type": "markdown",
   "metadata": {},
   "source": [
    "Check whether distribution of labels, is similar"
   ]
  },
  {
   "cell_type": "code",
   "execution_count": 41,
   "metadata": {},
   "outputs": [
    {
     "data": {
      "text/plain": [
       "0    92.092628\n",
       "1     7.907372\n",
       "Name: isFraud, dtype: float64"
      ]
     },
     "execution_count": 41,
     "metadata": {},
     "output_type": "execute_result"
    }
   ],
   "source": [
    "y_train.value_counts(normalize=True) * 100"
   ]
  },
  {
   "cell_type": "code",
   "execution_count": 42,
   "metadata": {},
   "outputs": [
    {
     "data": {
      "text/plain": [
       "0    92.394356\n",
       "1     7.605644\n",
       "Name: isFraud, dtype: float64"
      ]
     },
     "execution_count": 42,
     "metadata": {},
     "output_type": "execute_result"
    }
   ],
   "source": [
    "y_validation.value_counts(normalize=True) * 100"
   ]
  },
  {
   "cell_type": "markdown",
   "metadata": {},
   "source": [
    "## Model perfromance metrics"
   ]
  },
  {
   "cell_type": "code",
   "execution_count": 43,
   "metadata": {},
   "outputs": [],
   "source": [
    "y_pred = model.predict(X_validation)"
   ]
  },
  {
   "cell_type": "code",
   "execution_count": 44,
   "metadata": {},
   "outputs": [
    {
     "name": "stdout",
     "output_type": "stream",
     "text": [
      "ROC AUC Score:  0.9498008967061435\n"
     ]
    }
   ],
   "source": [
    "predictions = model.predict_proba(X_validation)[:, 1]\n",
    "\n",
    "# evaluate predictions\n",
    "print ('ROC AUC Score: ', roc_auc_score(y_validation,\n",
    "                                        predictions))"
   ]
  },
  {
   "cell_type": "code",
   "execution_count": 45,
   "metadata": {},
   "outputs": [
    {
     "name": "stdout",
     "output_type": "stream",
     "text": [
      "[[26230   423]\n",
      " [  796  1398]]\n"
     ]
    }
   ],
   "source": [
    "print(confusion_matrix(y_validation,\n",
    "                       y_pred))"
   ]
  },
  {
   "cell_type": "code",
   "execution_count": 46,
   "metadata": {},
   "outputs": [
    {
     "name": "stderr",
     "output_type": "stream",
     "text": [
      "/opt/conda/lib/python3.7/site-packages/yellowbrick/classifier/base.py:234: YellowbrickWarning: could not determine class_counts_ from previously fitted classifier\n",
      "  YellowbrickWarning,\n"
     ]
    },
    {
     "data": {
      "image/png": "[encoded data removed]",
      "text/plain": [
       "<Figure size 432x432 with 1 Axes>"
      ]
     },
     "metadata": {},
     "output_type": "display_data"
    }
   ],
   "source": [
    "mapping = {0: \"Genuine\", 1: \"Fraud\"}\n",
    "\n",
    "fig, ax = plt.subplots(figsize=(6, 6))\n",
    "cm_viz = ConfusionMatrix(model,\n",
    "                         classes=[\"0\", \"1\"],\n",
    "                         label_encoder=mapping)\n",
    "\n",
    "cm_viz.score(X_validation, y_validation)\n",
    "cm_viz.poof()"
   ]
  },
  {
   "cell_type": "code",
   "execution_count": 47,
   "metadata": {},
   "outputs": [
    {
     "name": "stdout",
     "output_type": "stream",
     "text": [
      "              precision    recall  f1-score   support\n",
      "\n",
      "           0       0.97      0.98      0.98     26653\n",
      "           1       0.77      0.64      0.70      2194\n",
      "\n",
      "    accuracy                           0.96     28847\n",
      "   macro avg       0.87      0.81      0.84     28847\n",
      "weighted avg       0.96      0.96      0.96     28847\n",
      "\n"
     ]
    }
   ],
   "source": [
    "print(classification_report(y_validation,\n",
    "                            y_pred))"
   ]
  },
  {
   "cell_type": "code",
   "execution_count": 48,
   "metadata": {
    "scrolled": true
   },
   "outputs": [
    {
     "name": "stderr",
     "output_type": "stream",
     "text": [
      "/opt/conda/lib/python3.7/site-packages/yellowbrick/classifier/base.py:234: YellowbrickWarning: could not determine class_counts_ from previously fitted classifier\n",
      "  YellowbrickWarning,\n"
     ]
    },
    {
     "data": {
      "image/png": "[encoded data removed]",
      "text/plain": [
       "<Figure size 576x360 with 2 Axes>"
      ]
     },
     "metadata": {},
     "output_type": "display_data"
    }
   ],
   "source": [
    "fig, ax = plt.subplots(figsize=(8, 5))\n",
    "cm_viz = ClassificationReport(model,\n",
    "                              classes=[\"0\", \"1\"])\n",
    "\n",
    "\n",
    "cm_viz.score(X_validation, y_validation)\n",
    "cm_viz.poof()"
   ]
  },
  {
   "cell_type": "markdown",
   "metadata": {},
   "source": [
    "**Note**:separate metrics evaluation above, for each of the two classes"
   ]
  },
  {
   "cell_type": "code",
   "execution_count": 49,
   "metadata": {},
   "outputs": [
    {
     "data": {
      "image/png": "[encoded data removed]",
      "text/plain": [
       "<Figure size 576x576 with 1 Axes>"
      ]
     },
     "metadata": {},
     "output_type": "display_data"
    }
   ],
   "source": [
    "fig, ax = plt.subplots(figsize=(8, 8))\n",
    "roc_viz = ROCAUC(model,\n",
    "                 classes=[\"0\", \"1\"],\n",
    "                 binary=True)\n",
    "\n",
    "roc_viz.fit(X_train, y_train)  # Fit the training data to the visualizer\n",
    "roc_viz.score(X_validation, y_validation)  # Evaluate the model on the test data\n",
    "roc_viz.show()"
   ]
  },
  {
   "cell_type": "markdown",
   "metadata": {},
   "source": [
    "## Decision Tree"
   ]
  },
  {
   "cell_type": "code",
   "execution_count": 50,
   "metadata": {},
   "outputs": [
    {
     "name": "stderr",
     "output_type": "stream",
     "text": [
      "dot: graph is too large for cairo-renderer bitmaps. Scaling by 0.304707 to fit\n"
     ]
    },
    {
     "data": {
      "image/png": "[encoded data removed]",
      "text/plain": [
       "<Figure size 1080x720 with 1 Axes>"
      ]
     },
     "metadata": {},
     "output_type": "display_data"
    }
   ],
   "source": [
    "fig, ax = plt.subplots(figsize=(15,10))\n",
    "xgb.plot_tree(xgb_class,\n",
    "              ax=ax,\n",
    "              num_trees=0)"
   ]
  },
  {
   "cell_type": "code",
   "execution_count": null,
   "metadata": {},
   "outputs": [],
   "source": []
  }
 ],
 "metadata": {
  "environment": {
   "name": "tf2-gpu.2-3.m65",
   "type": "gcloud",
   "uri": "gcr.io/deeplearning-platform-release/tf2-gpu.2-3:m65"
  },
  "kernelspec": {
   "display_name": "Python 3",
   "language": "python",
   "name": "python3"
  },
  "language_info": {
   "codemirror_mode": {
    "name": "ipython",
    "version": 3
   },
   "file_extension": ".py",
   "mimetype": "text/x-python",
   "name": "python",
   "nbconvert_exporter": "python",
   "pygments_lexer": "ipython3",
   "version": "3.7.7"
  }
 },
 "nbformat": 4,
 "nbformat_minor": 5
}
