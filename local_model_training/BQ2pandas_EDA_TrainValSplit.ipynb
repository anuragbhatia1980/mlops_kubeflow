{
 "cells": [
  {
   "cell_type": "code",
   "execution_count": 57,
   "metadata": {},
   "outputs": [
    {
     "name": "stdout",
     "output_type": "stream",
     "text": [
      "The google.cloud.bigquery extension is already loaded. To reload it, use:\n",
      "  %reload_ext google.cloud.bigquery\n"
     ]
    }
   ],
   "source": [
    "import pandas as pd\n",
    "import missingno as msno\n",
    "\n",
    "from sklearn.preprocessing import MinMaxScaler\n",
    "\n",
    "from google.cloud import bigquery\n",
    "%load_ext google.cloud.bigquery"
   ]
  },
  {
   "cell_type": "code",
   "execution_count": 2,
   "metadata": {},
   "outputs": [],
   "source": [
    "%config Completer.use_jedi = False  # for auto-completion"
   ]
  },
  {
   "cell_type": "markdown",
   "metadata": {},
   "source": [
    "## Get dataset from BigQuery"
   ]
  },
  {
   "cell_type": "code",
   "execution_count": 7,
   "metadata": {},
   "outputs": [
    {
     "data": {
      "text/html": [
       "<div>\n",
       "<style scoped>\n",
       "    .dataframe tbody tr th:only-of-type {\n",
       "        vertical-align: middle;\n",
       "    }\n",
       "\n",
       "    .dataframe tbody tr th {\n",
       "        vertical-align: top;\n",
       "    }\n",
       "\n",
       "    .dataframe thead th {\n",
       "        text-align: right;\n",
       "    }\n",
       "</style>\n",
       "<table border=\"1\" class=\"dataframe\">\n",
       "  <thead>\n",
       "    <tr style=\"text-align: right;\">\n",
       "      <th></th>\n",
       "      <th>TransactionID</th>\n",
       "      <th>isFraud</th>\n",
       "      <th>TransactionDT</th>\n",
       "      <th>TransactionAmt</th>\n",
       "      <th>ProductCD</th>\n",
       "      <th>card1</th>\n",
       "      <th>card2</th>\n",
       "      <th>card3</th>\n",
       "      <th>card4</th>\n",
       "      <th>card5</th>\n",
       "      <th>...</th>\n",
       "      <th>V330</th>\n",
       "      <th>V331</th>\n",
       "      <th>V332</th>\n",
       "      <th>V333</th>\n",
       "      <th>V334</th>\n",
       "      <th>V335</th>\n",
       "      <th>V336</th>\n",
       "      <th>V337</th>\n",
       "      <th>V338</th>\n",
       "      <th>V339</th>\n",
       "    </tr>\n",
       "  </thead>\n",
       "  <tbody>\n",
       "    <tr>\n",
       "      <th>0</th>\n",
       "      <td>3058086</td>\n",
       "      <td>0</td>\n",
       "      <td>1605804</td>\n",
       "      <td>150.0</td>\n",
       "      <td>R</td>\n",
       "      <td>6978</td>\n",
       "      <td>567.0</td>\n",
       "      <td>150.0</td>\n",
       "      <td>visa</td>\n",
       "      <td>195.0</td>\n",
       "      <td>...</td>\n",
       "      <td>0.0</td>\n",
       "      <td>0.0</td>\n",
       "      <td>0.0</td>\n",
       "      <td>0.0</td>\n",
       "      <td>0.0</td>\n",
       "      <td>0.0</td>\n",
       "      <td>0.0</td>\n",
       "      <td>0.0</td>\n",
       "      <td>0.0</td>\n",
       "      <td>0.0</td>\n",
       "    </tr>\n",
       "    <tr>\n",
       "      <th>1</th>\n",
       "      <td>3565638</td>\n",
       "      <td>0</td>\n",
       "      <td>15397195</td>\n",
       "      <td>150.0</td>\n",
       "      <td>R</td>\n",
       "      <td>6019</td>\n",
       "      <td>583.0</td>\n",
       "      <td>150.0</td>\n",
       "      <td>visa</td>\n",
       "      <td>226.0</td>\n",
       "      <td>...</td>\n",
       "      <td>4.0</td>\n",
       "      <td>1350.0</td>\n",
       "      <td>1350.0</td>\n",
       "      <td>1350.0</td>\n",
       "      <td>0.0</td>\n",
       "      <td>0.0</td>\n",
       "      <td>0.0</td>\n",
       "      <td>600.0</td>\n",
       "      <td>600.0</td>\n",
       "      <td>600.0</td>\n",
       "    </tr>\n",
       "    <tr>\n",
       "      <th>2</th>\n",
       "      <td>3546123</td>\n",
       "      <td>0</td>\n",
       "      <td>14823647</td>\n",
       "      <td>105.0</td>\n",
       "      <td>S</td>\n",
       "      <td>15775</td>\n",
       "      <td>481.0</td>\n",
       "      <td>150.0</td>\n",
       "      <td>mastercard</td>\n",
       "      <td>102.0</td>\n",
       "      <td>...</td>\n",
       "      <td>43.0</td>\n",
       "      <td>2900.0</td>\n",
       "      <td>49289.0</td>\n",
       "      <td>40960.0</td>\n",
       "      <td>265.0</td>\n",
       "      <td>2301.0</td>\n",
       "      <td>1052.0</td>\n",
       "      <td>1165.0</td>\n",
       "      <td>7709.0</td>\n",
       "      <td>4415.0</td>\n",
       "    </tr>\n",
       "    <tr>\n",
       "      <th>3</th>\n",
       "      <td>3548142</td>\n",
       "      <td>0</td>\n",
       "      <td>14859454</td>\n",
       "      <td>75.0</td>\n",
       "      <td>S</td>\n",
       "      <td>15775</td>\n",
       "      <td>481.0</td>\n",
       "      <td>150.0</td>\n",
       "      <td>mastercard</td>\n",
       "      <td>102.0</td>\n",
       "      <td>...</td>\n",
       "      <td>35.0</td>\n",
       "      <td>70813.0</td>\n",
       "      <td>117467.0</td>\n",
       "      <td>78551.0</td>\n",
       "      <td>0.0</td>\n",
       "      <td>2301.0</td>\n",
       "      <td>1052.0</td>\n",
       "      <td>1165.0</td>\n",
       "      <td>7709.0</td>\n",
       "      <td>3657.0</td>\n",
       "    </tr>\n",
       "    <tr>\n",
       "      <th>4</th>\n",
       "      <td>3546538</td>\n",
       "      <td>0</td>\n",
       "      <td>14830185</td>\n",
       "      <td>106.0</td>\n",
       "      <td>S</td>\n",
       "      <td>15775</td>\n",
       "      <td>481.0</td>\n",
       "      <td>150.0</td>\n",
       "      <td>mastercard</td>\n",
       "      <td>102.0</td>\n",
       "      <td>...</td>\n",
       "      <td>42.0</td>\n",
       "      <td>29920.0</td>\n",
       "      <td>76474.0</td>\n",
       "      <td>58715.0</td>\n",
       "      <td>100.0</td>\n",
       "      <td>2301.0</td>\n",
       "      <td>1052.0</td>\n",
       "      <td>1165.0</td>\n",
       "      <td>7709.0</td>\n",
       "      <td>4360.0</td>\n",
       "    </tr>\n",
       "  </tbody>\n",
       "</table>\n",
       "<p>5 rows × 394 columns</p>\n",
       "</div>"
      ],
      "text/plain": [
       "   TransactionID  isFraud  TransactionDT  TransactionAmt ProductCD  card1  \\\n",
       "0        3058086        0        1605804           150.0         R   6978   \n",
       "1        3565638        0       15397195           150.0         R   6019   \n",
       "2        3546123        0       14823647           105.0         S  15775   \n",
       "3        3548142        0       14859454            75.0         S  15775   \n",
       "4        3546538        0       14830185           106.0         S  15775   \n",
       "\n",
       "   card2  card3       card4  card5  ...  V330     V331      V332     V333  \\\n",
       "0  567.0  150.0        visa  195.0  ...   0.0      0.0       0.0      0.0   \n",
       "1  583.0  150.0        visa  226.0  ...   4.0   1350.0    1350.0   1350.0   \n",
       "2  481.0  150.0  mastercard  102.0  ...  43.0   2900.0   49289.0  40960.0   \n",
       "3  481.0  150.0  mastercard  102.0  ...  35.0  70813.0  117467.0  78551.0   \n",
       "4  481.0  150.0  mastercard  102.0  ...  42.0  29920.0   76474.0  58715.0   \n",
       "\n",
       "    V334    V335    V336    V337    V338    V339  \n",
       "0    0.0     0.0     0.0     0.0     0.0     0.0  \n",
       "1    0.0     0.0     0.0   600.0   600.0   600.0  \n",
       "2  265.0  2301.0  1052.0  1165.0  7709.0  4415.0  \n",
       "3    0.0  2301.0  1052.0  1165.0  7709.0  3657.0  \n",
       "4  100.0  2301.0  1052.0  1165.0  7709.0  4360.0  \n",
       "\n",
       "[5 rows x 394 columns]"
      ]
     },
     "execution_count": 7,
     "metadata": {},
     "output_type": "execute_result"
    }
   ],
   "source": [
    "PROJECT = \"qwiklabs-gcp-04-151057592acb\"  # change this\n",
    "\n",
    "# Get query result and convert it to dataframe\n",
    "query = \"\"\"\n",
    "        SELECT *\n",
    "        FROM `qwiklabs-gcp-04-151057592acb.Joins.train_transaction_inner`;\n",
    "\t\t\"\"\"\n",
    "bq = bigquery.Client(project=PROJECT)\n",
    "card_fraud_dataset = bq.query(query).to_dataframe()\n",
    "card_fraud_dataset.head()"
   ]
  },
  {
   "cell_type": "code",
   "execution_count": 66,
   "metadata": {},
   "outputs": [
    {
     "data": {
      "text/plain": [
       "(144233, 394)"
      ]
     },
     "execution_count": 66,
     "metadata": {},
     "output_type": "execute_result"
    }
   ],
   "source": [
    "card_fraud_dataset.shape"
   ]
  },
  {
   "cell_type": "markdown",
   "metadata": {},
   "source": [
    "## Basic EDA"
   ]
  },
  {
   "cell_type": "markdown",
   "metadata": {},
   "source": [
    "Extent of class-imbalance in dataset"
   ]
  },
  {
   "cell_type": "code",
   "execution_count": 67,
   "metadata": {},
   "outputs": [
    {
     "data": {
      "text/plain": [
       "0    0.92153\n",
       "1    0.07847\n",
       "Name: isFraud, dtype: float64"
      ]
     },
     "execution_count": 67,
     "metadata": {},
     "output_type": "execute_result"
    }
   ],
   "source": [
    "card_fraud_dataset.isFraud.value_counts(normalize=True)"
   ]
  },
  {
   "cell_type": "code",
   "execution_count": 68,
   "metadata": {},
   "outputs": [
    {
     "data": {
      "text/plain": [
       "['TransactionID',\n",
       " 'isFraud',\n",
       " 'TransactionDT',\n",
       " 'TransactionAmt',\n",
       " 'ProductCD',\n",
       " 'card1',\n",
       " 'card2',\n",
       " 'card3',\n",
       " 'card4',\n",
       " 'card5',\n",
       " 'card6',\n",
       " 'addr1',\n",
       " 'addr2',\n",
       " 'dist1',\n",
       " 'dist2',\n",
       " 'P_emaildomain',\n",
       " 'R_emaildomain',\n",
       " 'C1',\n",
       " 'C2',\n",
       " 'C3',\n",
       " 'C4',\n",
       " 'C5',\n",
       " 'C6',\n",
       " 'C7',\n",
       " 'C8']"
      ]
     },
     "execution_count": 68,
     "metadata": {},
     "output_type": "execute_result"
    }
   ],
   "source": [
    "card_fraud_dataset.columns.to_list()[:25]"
   ]
  },
  {
   "cell_type": "markdown",
   "metadata": {},
   "source": [
    "Pick only selected columns: based on feature importance from AutoML Tables (Google Cloud)"
   ]
  },
  {
   "cell_type": "code",
   "execution_count": 69,
   "metadata": {},
   "outputs": [
    {
     "data": {
      "text/plain": [
       "21"
      ]
     },
     "execution_count": 69,
     "metadata": {},
     "output_type": "execute_result"
    }
   ],
   "source": [
    "selected_columns = ['TransactionID',\n",
    "                     'isFraud',\n",
    "                     'TransactionDT',\n",
    "                     'TransactionAmt',\n",
    "                     'ProductCD',\n",
    "                     'card1',\n",
    "                     'card2',\n",
    "                     'card3',\n",
    "                     'card6',\n",
    "                     'P_emaildomain',\n",
    "                     'R_emaildomain',\n",
    "                     'C1',\n",
    "                     'C2',\n",
    "                     'C11',\n",
    "                     'C12',\n",
    "                     'C13',\n",
    "                     'C14',\n",
    "                     'D8',\n",
    "                     'V45',\n",
    "                     'V87',\n",
    "                     'V258']\n",
    "\n",
    "len(selected_columns)"
   ]
  },
  {
   "cell_type": "code",
   "execution_count": 85,
   "metadata": {},
   "outputs": [
    {
     "data": {
      "text/plain": [
       "(144233, 21)"
      ]
     },
     "execution_count": 85,
     "metadata": {},
     "output_type": "execute_result"
    }
   ],
   "source": [
    "dataset_select_cols = card_fraud_dataset[selected_columns]\n",
    "\n",
    "dataset_select_cols.shape"
   ]
  },
  {
   "cell_type": "code",
   "execution_count": 86,
   "metadata": {},
   "outputs": [
    {
     "data": {
      "text/html": [
       "<div>\n",
       "<style scoped>\n",
       "    .dataframe tbody tr th:only-of-type {\n",
       "        vertical-align: middle;\n",
       "    }\n",
       "\n",
       "    .dataframe tbody tr th {\n",
       "        vertical-align: top;\n",
       "    }\n",
       "\n",
       "    .dataframe thead th {\n",
       "        text-align: right;\n",
       "    }\n",
       "</style>\n",
       "<table border=\"1\" class=\"dataframe\">\n",
       "  <thead>\n",
       "    <tr style=\"text-align: right;\">\n",
       "      <th></th>\n",
       "      <th>TransactionID</th>\n",
       "      <th>isFraud</th>\n",
       "      <th>TransactionDT</th>\n",
       "      <th>TransactionAmt</th>\n",
       "      <th>ProductCD</th>\n",
       "      <th>card1</th>\n",
       "      <th>card2</th>\n",
       "      <th>card3</th>\n",
       "      <th>card6</th>\n",
       "      <th>P_emaildomain</th>\n",
       "      <th>...</th>\n",
       "      <th>C1</th>\n",
       "      <th>C2</th>\n",
       "      <th>C11</th>\n",
       "      <th>C12</th>\n",
       "      <th>C13</th>\n",
       "      <th>C14</th>\n",
       "      <th>D8</th>\n",
       "      <th>V45</th>\n",
       "      <th>V87</th>\n",
       "      <th>V258</th>\n",
       "    </tr>\n",
       "  </thead>\n",
       "  <tbody>\n",
       "    <tr>\n",
       "      <th>0</th>\n",
       "      <td>3058086</td>\n",
       "      <td>0</td>\n",
       "      <td>1605804</td>\n",
       "      <td>150.0</td>\n",
       "      <td>R</td>\n",
       "      <td>6978</td>\n",
       "      <td>567.0</td>\n",
       "      <td>150.0</td>\n",
       "      <td>credit</td>\n",
       "      <td>cox.net</td>\n",
       "      <td>...</td>\n",
       "      <td>1037.0</td>\n",
       "      <td>1139.0</td>\n",
       "      <td>816.0</td>\n",
       "      <td>0.0</td>\n",
       "      <td>571.0</td>\n",
       "      <td>519.0</td>\n",
       "      <td>67.583336</td>\n",
       "      <td>NaN</td>\n",
       "      <td>NaN</td>\n",
       "      <td>NaN</td>\n",
       "    </tr>\n",
       "    <tr>\n",
       "      <th>1</th>\n",
       "      <td>3565638</td>\n",
       "      <td>0</td>\n",
       "      <td>15397195</td>\n",
       "      <td>150.0</td>\n",
       "      <td>R</td>\n",
       "      <td>6019</td>\n",
       "      <td>583.0</td>\n",
       "      <td>150.0</td>\n",
       "      <td>credit</td>\n",
       "      <td>gmail.com</td>\n",
       "      <td>...</td>\n",
       "      <td>4.0</td>\n",
       "      <td>3.0</td>\n",
       "      <td>2.0</td>\n",
       "      <td>0.0</td>\n",
       "      <td>1.0</td>\n",
       "      <td>1.0</td>\n",
       "      <td>1299.166626</td>\n",
       "      <td>NaN</td>\n",
       "      <td>NaN</td>\n",
       "      <td>NaN</td>\n",
       "    </tr>\n",
       "    <tr>\n",
       "      <th>2</th>\n",
       "      <td>3546123</td>\n",
       "      <td>0</td>\n",
       "      <td>14823647</td>\n",
       "      <td>105.0</td>\n",
       "      <td>S</td>\n",
       "      <td>15775</td>\n",
       "      <td>481.0</td>\n",
       "      <td>150.0</td>\n",
       "      <td>credit</td>\n",
       "      <td>None</td>\n",
       "      <td>...</td>\n",
       "      <td>5.0</td>\n",
       "      <td>3.0</td>\n",
       "      <td>5.0</td>\n",
       "      <td>0.0</td>\n",
       "      <td>61.0</td>\n",
       "      <td>5.0</td>\n",
       "      <td>26.541666</td>\n",
       "      <td>NaN</td>\n",
       "      <td>NaN</td>\n",
       "      <td>NaN</td>\n",
       "    </tr>\n",
       "    <tr>\n",
       "      <th>3</th>\n",
       "      <td>3548142</td>\n",
       "      <td>0</td>\n",
       "      <td>14859454</td>\n",
       "      <td>75.0</td>\n",
       "      <td>S</td>\n",
       "      <td>15775</td>\n",
       "      <td>481.0</td>\n",
       "      <td>150.0</td>\n",
       "      <td>credit</td>\n",
       "      <td>None</td>\n",
       "      <td>...</td>\n",
       "      <td>5.0</td>\n",
       "      <td>3.0</td>\n",
       "      <td>5.0</td>\n",
       "      <td>0.0</td>\n",
       "      <td>61.0</td>\n",
       "      <td>5.0</td>\n",
       "      <td>26.958332</td>\n",
       "      <td>NaN</td>\n",
       "      <td>NaN</td>\n",
       "      <td>NaN</td>\n",
       "    </tr>\n",
       "    <tr>\n",
       "      <th>4</th>\n",
       "      <td>3546538</td>\n",
       "      <td>0</td>\n",
       "      <td>14830185</td>\n",
       "      <td>106.0</td>\n",
       "      <td>S</td>\n",
       "      <td>15775</td>\n",
       "      <td>481.0</td>\n",
       "      <td>150.0</td>\n",
       "      <td>credit</td>\n",
       "      <td>None</td>\n",
       "      <td>...</td>\n",
       "      <td>5.0</td>\n",
       "      <td>3.0</td>\n",
       "      <td>5.0</td>\n",
       "      <td>0.0</td>\n",
       "      <td>61.0</td>\n",
       "      <td>5.0</td>\n",
       "      <td>26.625000</td>\n",
       "      <td>NaN</td>\n",
       "      <td>NaN</td>\n",
       "      <td>NaN</td>\n",
       "    </tr>\n",
       "  </tbody>\n",
       "</table>\n",
       "<p>5 rows × 21 columns</p>\n",
       "</div>"
      ],
      "text/plain": [
       "   TransactionID  isFraud  TransactionDT  TransactionAmt ProductCD  card1  \\\n",
       "0        3058086        0        1605804           150.0         R   6978   \n",
       "1        3565638        0       15397195           150.0         R   6019   \n",
       "2        3546123        0       14823647           105.0         S  15775   \n",
       "3        3548142        0       14859454            75.0         S  15775   \n",
       "4        3546538        0       14830185           106.0         S  15775   \n",
       "\n",
       "   card2  card3   card6 P_emaildomain  ...      C1      C2    C11  C12    C13  \\\n",
       "0  567.0  150.0  credit       cox.net  ...  1037.0  1139.0  816.0  0.0  571.0   \n",
       "1  583.0  150.0  credit     gmail.com  ...     4.0     3.0    2.0  0.0    1.0   \n",
       "2  481.0  150.0  credit          None  ...     5.0     3.0    5.0  0.0   61.0   \n",
       "3  481.0  150.0  credit          None  ...     5.0     3.0    5.0  0.0   61.0   \n",
       "4  481.0  150.0  credit          None  ...     5.0     3.0    5.0  0.0   61.0   \n",
       "\n",
       "     C14           D8  V45  V87  V258  \n",
       "0  519.0    67.583336  NaN  NaN   NaN  \n",
       "1    1.0  1299.166626  NaN  NaN   NaN  \n",
       "2    5.0    26.541666  NaN  NaN   NaN  \n",
       "3    5.0    26.958332  NaN  NaN   NaN  \n",
       "4    5.0    26.625000  NaN  NaN   NaN  \n",
       "\n",
       "[5 rows x 21 columns]"
      ]
     },
     "execution_count": 86,
     "metadata": {},
     "output_type": "execute_result"
    }
   ],
   "source": [
    "dataset_select_cols.head()"
   ]
  },
  {
   "cell_type": "markdown",
   "metadata": {},
   "source": [
    "Check null values"
   ]
  },
  {
   "cell_type": "code",
   "execution_count": 87,
   "metadata": {},
   "outputs": [
    {
     "data": {
      "text/plain": [
       "TransactionID      0.000000\n",
       "isFraud            0.000000\n",
       "TransactionDT      0.000000\n",
       "TransactionAmt     0.000000\n",
       "ProductCD          0.000000\n",
       "card1              0.000000\n",
       "card2              0.625377\n",
       "card3              0.119251\n",
       "card6              0.123411\n",
       "P_emaildomain      9.284283\n",
       "R_emaildomain      9.117192\n",
       "C1                 0.000000\n",
       "C2                 0.000000\n",
       "C11                0.000000\n",
       "C12                0.000000\n",
       "C13                0.000000\n",
       "C14                0.000000\n",
       "D8                48.052110\n",
       "V45               55.110828\n",
       "V87               52.669639\n",
       "V258               9.681557\n",
       "dtype: float64"
      ]
     },
     "execution_count": 87,
     "metadata": {},
     "output_type": "execute_result"
    }
   ],
   "source": [
    "dataset_select_cols.isna().mean() * 100  # percentage of missing values in each column"
   ]
  },
  {
   "cell_type": "code",
   "execution_count": 88,
   "metadata": {},
   "outputs": [
    {
     "data": {
      "image/png": "[encoded data removed]",
      "text/plain": [
       "<Figure size 1080x720 with 3 Axes>"
      ]
     },
     "metadata": {
      "needs_background": "light"
     },
     "output_type": "display_data"
    }
   ],
   "source": [
    "ax = msno.bar(dataset_select_cols,\n",
    "              figsize=(15,10))\n",
    "ax.get_figure().savefig(\"plots/missing_values.png\")"
   ]
  },
  {
   "cell_type": "markdown",
   "metadata": {},
   "source": [
    "Check dtypes"
   ]
  },
  {
   "cell_type": "code",
   "execution_count": 89,
   "metadata": {},
   "outputs": [
    {
     "data": {
      "text/plain": [
       "TransactionID       int64\n",
       "isFraud             int64\n",
       "TransactionDT       int64\n",
       "TransactionAmt    float64\n",
       "ProductCD          object\n",
       "card1               int64\n",
       "card2             float64\n",
       "card3             float64\n",
       "card6              object\n",
       "P_emaildomain      object\n",
       "R_emaildomain      object\n",
       "C1                float64\n",
       "C2                float64\n",
       "C11               float64\n",
       "C12               float64\n",
       "C13               float64\n",
       "C14               float64\n",
       "D8                float64\n",
       "V45               float64\n",
       "V87               float64\n",
       "V258              float64\n",
       "dtype: object"
      ]
     },
     "execution_count": 89,
     "metadata": {},
     "output_type": "execute_result"
    }
   ],
   "source": [
    "dataset_select_cols.dtypes"
   ]
  },
  {
   "cell_type": "markdown",
   "metadata": {},
   "source": [
    "## Encoding of categorical columns"
   ]
  },
  {
   "cell_type": "code",
   "execution_count": 75,
   "metadata": {},
   "outputs": [
    {
     "data": {
      "text/plain": [
       "(144233, 21)"
      ]
     },
     "execution_count": 75,
     "metadata": {},
     "output_type": "execute_result"
    }
   ],
   "source": [
    "dataset_select_cols.shape"
   ]
  },
  {
   "cell_type": "code",
   "execution_count": 76,
   "metadata": {},
   "outputs": [
    {
     "data": {
      "text/plain": [
       "(144233, 143)"
      ]
     },
     "execution_count": 76,
     "metadata": {},
     "output_type": "execute_result"
    }
   ],
   "source": [
    "categorical_feature_columns = ['ProductCD', 'card6',\n",
    "                               'P_emaildomain', 'R_emaildomain']\n",
    "\n",
    "dataset_select_cols = pd.get_dummies(dataset_select_cols, \n",
    "                                     columns=categorical_feature_columns)\n",
    "\n",
    "dataset_select_cols.shape"
   ]
  },
  {
   "cell_type": "markdown",
   "metadata": {},
   "source": [
    "Note: It is not really a best practice to do do encoding at this stage of the ml pipeline. But more on that later."
   ]
  },
  {
   "cell_type": "markdown",
   "metadata": {},
   "source": [
    "## Train - Validation split"
   ]
  },
  {
   "cell_type": "code",
   "execution_count": 90,
   "metadata": {},
   "outputs": [
    {
     "data": {
      "text/plain": [
       "True"
      ]
     },
     "execution_count": 90,
     "metadata": {},
     "output_type": "execute_result"
    }
   ],
   "source": [
    "train_pct = 0.8  # first 80% rows in train set, last 20% in validation set\n",
    "\n",
    "dataset_select_cols[:int(dataset_select_cols.shape[0] * train_pct)].shape[0] + \\\n",
    "dataset_select_cols[int(dataset_select_cols.shape[0] * train_pct):].shape[0] == \\\n",
    "dataset_select_cols.shape[0]"
   ]
  },
  {
   "cell_type": "code",
   "execution_count": 91,
   "metadata": {},
   "outputs": [],
   "source": [
    "train_set = dataset_select_cols[:int(dataset_select_cols.shape[0] * train_pct)]\n",
    "val_set = dataset_select_cols[int(dataset_select_cols.shape[0] * train_pct):]"
   ]
  },
  {
   "cell_type": "markdown",
   "metadata": {},
   "source": [
    "Sanity-check: same number of columns?"
   ]
  },
  {
   "cell_type": "code",
   "execution_count": 92,
   "metadata": {},
   "outputs": [
    {
     "data": {
      "text/plain": [
       "True"
      ]
     },
     "execution_count": 92,
     "metadata": {},
     "output_type": "execute_result"
    }
   ],
   "source": [
    "train_set.shape[1] == val_set.shape[1]"
   ]
  },
  {
   "cell_type": "code",
   "execution_count": 93,
   "metadata": {},
   "outputs": [
    {
     "data": {
      "text/html": [
       "<div>\n",
       "<style scoped>\n",
       "    .dataframe tbody tr th:only-of-type {\n",
       "        vertical-align: middle;\n",
       "    }\n",
       "\n",
       "    .dataframe tbody tr th {\n",
       "        vertical-align: top;\n",
       "    }\n",
       "\n",
       "    .dataframe thead th {\n",
       "        text-align: right;\n",
       "    }\n",
       "</style>\n",
       "<table border=\"1\" class=\"dataframe\">\n",
       "  <thead>\n",
       "    <tr style=\"text-align: right;\">\n",
       "      <th></th>\n",
       "      <th>TransactionID</th>\n",
       "      <th>isFraud</th>\n",
       "      <th>TransactionDT</th>\n",
       "      <th>TransactionAmt</th>\n",
       "      <th>ProductCD</th>\n",
       "      <th>card1</th>\n",
       "      <th>card2</th>\n",
       "      <th>card3</th>\n",
       "      <th>card6</th>\n",
       "      <th>P_emaildomain</th>\n",
       "      <th>...</th>\n",
       "      <th>C1</th>\n",
       "      <th>C2</th>\n",
       "      <th>C11</th>\n",
       "      <th>C12</th>\n",
       "      <th>C13</th>\n",
       "      <th>C14</th>\n",
       "      <th>D8</th>\n",
       "      <th>V45</th>\n",
       "      <th>V87</th>\n",
       "      <th>V258</th>\n",
       "    </tr>\n",
       "  </thead>\n",
       "  <tbody>\n",
       "    <tr>\n",
       "      <th>0</th>\n",
       "      <td>3058086</td>\n",
       "      <td>0</td>\n",
       "      <td>1605804</td>\n",
       "      <td>150.0</td>\n",
       "      <td>R</td>\n",
       "      <td>6978</td>\n",
       "      <td>567.0</td>\n",
       "      <td>150.0</td>\n",
       "      <td>credit</td>\n",
       "      <td>cox.net</td>\n",
       "      <td>...</td>\n",
       "      <td>1037.0</td>\n",
       "      <td>1139.0</td>\n",
       "      <td>816.0</td>\n",
       "      <td>0.0</td>\n",
       "      <td>571.0</td>\n",
       "      <td>519.0</td>\n",
       "      <td>67.583336</td>\n",
       "      <td>NaN</td>\n",
       "      <td>NaN</td>\n",
       "      <td>NaN</td>\n",
       "    </tr>\n",
       "    <tr>\n",
       "      <th>1</th>\n",
       "      <td>3565638</td>\n",
       "      <td>0</td>\n",
       "      <td>15397195</td>\n",
       "      <td>150.0</td>\n",
       "      <td>R</td>\n",
       "      <td>6019</td>\n",
       "      <td>583.0</td>\n",
       "      <td>150.0</td>\n",
       "      <td>credit</td>\n",
       "      <td>gmail.com</td>\n",
       "      <td>...</td>\n",
       "      <td>4.0</td>\n",
       "      <td>3.0</td>\n",
       "      <td>2.0</td>\n",
       "      <td>0.0</td>\n",
       "      <td>1.0</td>\n",
       "      <td>1.0</td>\n",
       "      <td>1299.166626</td>\n",
       "      <td>NaN</td>\n",
       "      <td>NaN</td>\n",
       "      <td>NaN</td>\n",
       "    </tr>\n",
       "    <tr>\n",
       "      <th>2</th>\n",
       "      <td>3546123</td>\n",
       "      <td>0</td>\n",
       "      <td>14823647</td>\n",
       "      <td>105.0</td>\n",
       "      <td>S</td>\n",
       "      <td>15775</td>\n",
       "      <td>481.0</td>\n",
       "      <td>150.0</td>\n",
       "      <td>credit</td>\n",
       "      <td>None</td>\n",
       "      <td>...</td>\n",
       "      <td>5.0</td>\n",
       "      <td>3.0</td>\n",
       "      <td>5.0</td>\n",
       "      <td>0.0</td>\n",
       "      <td>61.0</td>\n",
       "      <td>5.0</td>\n",
       "      <td>26.541666</td>\n",
       "      <td>NaN</td>\n",
       "      <td>NaN</td>\n",
       "      <td>NaN</td>\n",
       "    </tr>\n",
       "    <tr>\n",
       "      <th>3</th>\n",
       "      <td>3548142</td>\n",
       "      <td>0</td>\n",
       "      <td>14859454</td>\n",
       "      <td>75.0</td>\n",
       "      <td>S</td>\n",
       "      <td>15775</td>\n",
       "      <td>481.0</td>\n",
       "      <td>150.0</td>\n",
       "      <td>credit</td>\n",
       "      <td>None</td>\n",
       "      <td>...</td>\n",
       "      <td>5.0</td>\n",
       "      <td>3.0</td>\n",
       "      <td>5.0</td>\n",
       "      <td>0.0</td>\n",
       "      <td>61.0</td>\n",
       "      <td>5.0</td>\n",
       "      <td>26.958332</td>\n",
       "      <td>NaN</td>\n",
       "      <td>NaN</td>\n",
       "      <td>NaN</td>\n",
       "    </tr>\n",
       "    <tr>\n",
       "      <th>4</th>\n",
       "      <td>3546538</td>\n",
       "      <td>0</td>\n",
       "      <td>14830185</td>\n",
       "      <td>106.0</td>\n",
       "      <td>S</td>\n",
       "      <td>15775</td>\n",
       "      <td>481.0</td>\n",
       "      <td>150.0</td>\n",
       "      <td>credit</td>\n",
       "      <td>None</td>\n",
       "      <td>...</td>\n",
       "      <td>5.0</td>\n",
       "      <td>3.0</td>\n",
       "      <td>5.0</td>\n",
       "      <td>0.0</td>\n",
       "      <td>61.0</td>\n",
       "      <td>5.0</td>\n",
       "      <td>26.625000</td>\n",
       "      <td>NaN</td>\n",
       "      <td>NaN</td>\n",
       "      <td>NaN</td>\n",
       "    </tr>\n",
       "  </tbody>\n",
       "</table>\n",
       "<p>5 rows × 21 columns</p>\n",
       "</div>"
      ],
      "text/plain": [
       "   TransactionID  isFraud  TransactionDT  TransactionAmt ProductCD  card1  \\\n",
       "0        3058086        0        1605804           150.0         R   6978   \n",
       "1        3565638        0       15397195           150.0         R   6019   \n",
       "2        3546123        0       14823647           105.0         S  15775   \n",
       "3        3548142        0       14859454            75.0         S  15775   \n",
       "4        3546538        0       14830185           106.0         S  15775   \n",
       "\n",
       "   card2  card3   card6 P_emaildomain  ...      C1      C2    C11  C12    C13  \\\n",
       "0  567.0  150.0  credit       cox.net  ...  1037.0  1139.0  816.0  0.0  571.0   \n",
       "1  583.0  150.0  credit     gmail.com  ...     4.0     3.0    2.0  0.0    1.0   \n",
       "2  481.0  150.0  credit          None  ...     5.0     3.0    5.0  0.0   61.0   \n",
       "3  481.0  150.0  credit          None  ...     5.0     3.0    5.0  0.0   61.0   \n",
       "4  481.0  150.0  credit          None  ...     5.0     3.0    5.0  0.0   61.0   \n",
       "\n",
       "     C14           D8  V45  V87  V258  \n",
       "0  519.0    67.583336  NaN  NaN   NaN  \n",
       "1    1.0  1299.166626  NaN  NaN   NaN  \n",
       "2    5.0    26.541666  NaN  NaN   NaN  \n",
       "3    5.0    26.958332  NaN  NaN   NaN  \n",
       "4    5.0    26.625000  NaN  NaN   NaN  \n",
       "\n",
       "[5 rows x 21 columns]"
      ]
     },
     "execution_count": 93,
     "metadata": {},
     "output_type": "execute_result"
    }
   ],
   "source": [
    "train_set.head()"
   ]
  },
  {
   "cell_type": "markdown",
   "metadata": {},
   "source": [
    "Check whether the class (labels) distribution is not too different, between train and validation sets"
   ]
  },
  {
   "cell_type": "code",
   "execution_count": 94,
   "metadata": {},
   "outputs": [
    {
     "data": {
      "text/plain": [
       "0    0.920926\n",
       "1    0.079074\n",
       "Name: isFraud, dtype: float64"
      ]
     },
     "execution_count": 94,
     "metadata": {},
     "output_type": "execute_result"
    }
   ],
   "source": [
    "train_set.isFraud.value_counts(normalize=True)"
   ]
  },
  {
   "cell_type": "code",
   "execution_count": 95,
   "metadata": {},
   "outputs": [
    {
     "data": {
      "text/plain": [
       "0    0.923944\n",
       "1    0.076056\n",
       "Name: isFraud, dtype: float64"
      ]
     },
     "execution_count": 95,
     "metadata": {},
     "output_type": "execute_result"
    }
   ],
   "source": [
    "val_set.isFraud.value_counts(normalize=True)"
   ]
  },
  {
   "cell_type": "markdown",
   "metadata": {},
   "source": [
    "Since it almost looks the same, this is fine."
   ]
  },
  {
   "cell_type": "code",
   "execution_count": null,
   "metadata": {},
   "outputs": [],
   "source": []
  },
  {
   "cell_type": "markdown",
   "metadata": {},
   "source": [
    "Convert to parquet: Save it OUTSIDE the git repo folder"
   ]
  },
  {
   "cell_type": "code",
   "execution_count": 96,
   "metadata": {},
   "outputs": [
    {
     "name": "stdout",
     "output_type": "stream",
     "text": [
      "/home/jupyter/anomalydetection/Anurag\n"
     ]
    }
   ],
   "source": [
    "!pwd"
   ]
  },
  {
   "cell_type": "code",
   "execution_count": 97,
   "metadata": {},
   "outputs": [],
   "source": [
    "train_set.to_parquet('../../data/card_fraud_train_encoded_dataset.parquet',\n",
    "                     compression='gzip')\n",
    "\n",
    "val_set.to_parquet('../../data/card_fraud_val_encoded_dataset.parquet',\n",
    "                   compression='gzip')\n",
    "\n",
    "# train_set.to_parquet('../../data/card_fraud_train_dataset.parquet',\n",
    "#                      compression='gzip')\n",
    "\n",
    "# val_set.to_parquet('../../data/card_fraud_val_dataset.parquet',\n",
    "#                    compression='gzip')"
   ]
  }
 ],
 "metadata": {
  "environment": {
   "name": "tf2-gpu.2-3.m65",
   "type": "gcloud",
   "uri": "gcr.io/deeplearning-platform-release/tf2-gpu.2-3:m65"
  },
  "kernelspec": {
   "display_name": "Python 3",
   "language": "python",
   "name": "python3"
  },
  "language_info": {
   "codemirror_mode": {
    "name": "ipython",
    "version": 3
   },
   "file_extension": ".py",
   "mimetype": "text/x-python",
   "name": "python",
   "nbconvert_exporter": "python",
   "pygments_lexer": "ipython3",
   "version": "3.7.7"
  }
 },
 "nbformat": 4,
 "nbformat_minor": 5
}
