{
 "cells": [
  {
   "cell_type": "code",
   "execution_count": 1,
   "id": "298cbd84",
   "metadata": {},
   "outputs": [],
   "source": [
    "import numpy as np\n",
    "import pandas as pd\n",
    "import pandas_gbq\n",
    "\n",
    "import tensorflow as tf\n",
    "# import tensorflow_decision_forests as tfdf\n",
    "\n",
    "from IPython.display import clear_output\n",
    "from matplotlib import pyplot as plt"
   ]
  },
  {
   "cell_type": "code",
   "execution_count": 2,
   "id": "3e50e608",
   "metadata": {},
   "outputs": [],
   "source": [
    "# Load datasets\n",
    "sql = \"SELECT * FROM kubeflow-1-0-2.credit_card_fraud.train\"\n",
    "dftrain = pd.read_gbq(sql)\n",
    "\n",
    "sql = \"SELECT * FROM kubeflow-1-0-2.credit_card_fraud.validation\"\n",
    "dfeval = pd.read_gbq(sql)"
   ]
  },
  {
   "cell_type": "code",
   "execution_count": 3,
   "id": "ec4e5f80",
   "metadata": {},
   "outputs": [
    {
     "data": {
      "text/html": [
       "<div>\n",
       "<style scoped>\n",
       "    .dataframe tbody tr th:only-of-type {\n",
       "        vertical-align: middle;\n",
       "    }\n",
       "\n",
       "    .dataframe tbody tr th {\n",
       "        vertical-align: top;\n",
       "    }\n",
       "\n",
       "    .dataframe thead th {\n",
       "        text-align: right;\n",
       "    }\n",
       "</style>\n",
       "<table border=\"1\" class=\"dataframe\">\n",
       "  <thead>\n",
       "    <tr style=\"text-align: right;\">\n",
       "      <th></th>\n",
       "      <th>TransactionDT</th>\n",
       "      <th>TransactionAmt</th>\n",
       "      <th>card1</th>\n",
       "      <th>card2</th>\n",
       "      <th>card3</th>\n",
       "      <th>C1</th>\n",
       "      <th>C2</th>\n",
       "      <th>C11</th>\n",
       "      <th>C12</th>\n",
       "      <th>C13</th>\n",
       "      <th>C14</th>\n",
       "      <th>D8</th>\n",
       "      <th>V45</th>\n",
       "      <th>V87</th>\n",
       "      <th>V258</th>\n",
       "      <th>card6</th>\n",
       "      <th>ProductCD</th>\n",
       "      <th>emaildomain</th>\n",
       "      <th>isFraud</th>\n",
       "    </tr>\n",
       "  </thead>\n",
       "  <tbody>\n",
       "    <tr>\n",
       "      <th>0</th>\n",
       "      <td>15029930</td>\n",
       "      <td>300.000</td>\n",
       "      <td>2560</td>\n",
       "      <td>562.0</td>\n",
       "      <td>150.0</td>\n",
       "      <td>1475.0</td>\n",
       "      <td>1637.0</td>\n",
       "      <td>1183.0</td>\n",
       "      <td>0.0</td>\n",
       "      <td>833.0</td>\n",
       "      <td>779.0</td>\n",
       "      <td>846.916687</td>\n",
       "      <td>0.0</td>\n",
       "      <td>0.0</td>\n",
       "      <td>0.0</td>\n",
       "      <td>credit</td>\n",
       "      <td>R</td>\n",
       "      <td>gmail.com</td>\n",
       "      <td>0</td>\n",
       "    </tr>\n",
       "    <tr>\n",
       "      <th>1</th>\n",
       "      <td>4242713</td>\n",
       "      <td>77.592</td>\n",
       "      <td>11520</td>\n",
       "      <td>399.0</td>\n",
       "      <td>150.0</td>\n",
       "      <td>39.0</td>\n",
       "      <td>323.0</td>\n",
       "      <td>83.0</td>\n",
       "      <td>83.0</td>\n",
       "      <td>149.0</td>\n",
       "      <td>19.0</td>\n",
       "      <td>0.000000</td>\n",
       "      <td>2.0</td>\n",
       "      <td>3.0</td>\n",
       "      <td>0.0</td>\n",
       "      <td>credit</td>\n",
       "      <td>C</td>\n",
       "      <td>anonymous.com</td>\n",
       "      <td>1</td>\n",
       "    </tr>\n",
       "    <tr>\n",
       "      <th>2</th>\n",
       "      <td>1972350</td>\n",
       "      <td>250.000</td>\n",
       "      <td>12544</td>\n",
       "      <td>321.0</td>\n",
       "      <td>150.0</td>\n",
       "      <td>1184.0</td>\n",
       "      <td>1297.0</td>\n",
       "      <td>933.0</td>\n",
       "      <td>0.0</td>\n",
       "      <td>689.0</td>\n",
       "      <td>637.0</td>\n",
       "      <td>71.791664</td>\n",
       "      <td>0.0</td>\n",
       "      <td>0.0</td>\n",
       "      <td>0.0</td>\n",
       "      <td>debit</td>\n",
       "      <td>R</td>\n",
       "      <td>gmail.com</td>\n",
       "      <td>0</td>\n",
       "    </tr>\n",
       "    <tr>\n",
       "      <th>3</th>\n",
       "      <td>14132532</td>\n",
       "      <td>200.000</td>\n",
       "      <td>12544</td>\n",
       "      <td>321.0</td>\n",
       "      <td>150.0</td>\n",
       "      <td>1446.0</td>\n",
       "      <td>1603.0</td>\n",
       "      <td>1155.0</td>\n",
       "      <td>0.0</td>\n",
       "      <td>817.0</td>\n",
       "      <td>761.0</td>\n",
       "      <td>85.541664</td>\n",
       "      <td>0.0</td>\n",
       "      <td>0.0</td>\n",
       "      <td>0.0</td>\n",
       "      <td>debit</td>\n",
       "      <td>R</td>\n",
       "      <td>gmail.com</td>\n",
       "      <td>0</td>\n",
       "    </tr>\n",
       "    <tr>\n",
       "      <th>4</th>\n",
       "      <td>13798278</td>\n",
       "      <td>75.000</td>\n",
       "      <td>12544</td>\n",
       "      <td>321.0</td>\n",
       "      <td>150.0</td>\n",
       "      <td>1419.0</td>\n",
       "      <td>1568.0</td>\n",
       "      <td>1130.0</td>\n",
       "      <td>0.0</td>\n",
       "      <td>809.0</td>\n",
       "      <td>752.0</td>\n",
       "      <td>81.666664</td>\n",
       "      <td>0.0</td>\n",
       "      <td>0.0</td>\n",
       "      <td>0.0</td>\n",
       "      <td>debit</td>\n",
       "      <td>R</td>\n",
       "      <td>msn.com</td>\n",
       "      <td>0</td>\n",
       "    </tr>\n",
       "  </tbody>\n",
       "</table>\n",
       "</div>"
      ],
      "text/plain": [
       "   TransactionDT  TransactionAmt  card1  card2  card3      C1      C2     C11  \\\n",
       "0       15029930         300.000   2560  562.0  150.0  1475.0  1637.0  1183.0   \n",
       "1        4242713          77.592  11520  399.0  150.0    39.0   323.0    83.0   \n",
       "2        1972350         250.000  12544  321.0  150.0  1184.0  1297.0   933.0   \n",
       "3       14132532         200.000  12544  321.0  150.0  1446.0  1603.0  1155.0   \n",
       "4       13798278          75.000  12544  321.0  150.0  1419.0  1568.0  1130.0   \n",
       "\n",
       "    C12    C13    C14          D8  V45  V87  V258   card6 ProductCD  \\\n",
       "0   0.0  833.0  779.0  846.916687  0.0  0.0   0.0  credit         R   \n",
       "1  83.0  149.0   19.0    0.000000  2.0  3.0   0.0  credit         C   \n",
       "2   0.0  689.0  637.0   71.791664  0.0  0.0   0.0   debit         R   \n",
       "3   0.0  817.0  761.0   85.541664  0.0  0.0   0.0   debit         R   \n",
       "4   0.0  809.0  752.0   81.666664  0.0  0.0   0.0   debit         R   \n",
       "\n",
       "     emaildomain  isFraud  \n",
       "0      gmail.com        0  \n",
       "1  anonymous.com        1  \n",
       "2      gmail.com        0  \n",
       "3      gmail.com        0  \n",
       "4        msn.com        0  "
      ]
     },
     "execution_count": 3,
     "metadata": {},
     "output_type": "execute_result"
    }
   ],
   "source": [
    "dftrain.head()"
   ]
  },
  {
   "cell_type": "code",
   "execution_count": 4,
   "id": "c79e7725",
   "metadata": {},
   "outputs": [
    {
     "data": {
      "text/plain": [
       "(115368, 19)"
      ]
     },
     "execution_count": 4,
     "metadata": {},
     "output_type": "execute_result"
    }
   ],
   "source": [
    "dftrain.shape"
   ]
  },
  {
   "cell_type": "code",
   "execution_count": 5,
   "id": "c6b960c6",
   "metadata": {},
   "outputs": [],
   "source": [
    "y_train = dftrain.pop('isFraud')\n",
    "y_eval = dfeval.pop('isFraud')"
   ]
  },
  {
   "cell_type": "code",
   "execution_count": 6,
   "id": "e071f89e",
   "metadata": {},
   "outputs": [
    {
     "data": {
      "text/plain": [
       "TransactionDT       int64\n",
       "TransactionAmt    float64\n",
       "card1               int64\n",
       "card2             float64\n",
       "card3             float64\n",
       "C1                float64\n",
       "C2                float64\n",
       "C11               float64\n",
       "C12               float64\n",
       "C13               float64\n",
       "C14               float64\n",
       "D8                float64\n",
       "V45               float64\n",
       "V87               float64\n",
       "V258              float64\n",
       "card6              object\n",
       "ProductCD          object\n",
       "emaildomain        object\n",
       "dtype: object"
      ]
     },
     "execution_count": 6,
     "metadata": {},
     "output_type": "execute_result"
    }
   ],
   "source": [
    "dftrain.dtypes"
   ]
  },
  {
   "cell_type": "code",
   "execution_count": 7,
   "id": "069cf4a8",
   "metadata": {},
   "outputs": [
    {
     "data": {
      "text/plain": [
       "['TransactionDT',\n",
       " 'TransactionAmt',\n",
       " 'card1',\n",
       " 'card2',\n",
       " 'card3',\n",
       " 'C1',\n",
       " 'C2',\n",
       " 'C11',\n",
       " 'C12',\n",
       " 'C13',\n",
       " 'C14',\n",
       " 'D8',\n",
       " 'V45',\n",
       " 'V87',\n",
       " 'V258',\n",
       " 'card6',\n",
       " 'ProductCD',\n",
       " 'emaildomain']"
      ]
     },
     "execution_count": 7,
     "metadata": {},
     "output_type": "execute_result"
    }
   ],
   "source": [
    "dftrain.columns.to_list()"
   ]
  },
  {
   "cell_type": "code",
   "execution_count": 8,
   "id": "31d41538",
   "metadata": {},
   "outputs": [],
   "source": [
    "NUMERIC_COLUMNS = ['TransactionDT', 'TransactionAmt',\n",
    "                   'card1', 'card2', 'card3', \n",
    "                   'C1', 'C2', 'C11', 'C12', 'C13', 'C14',\n",
    "                   'D8',\n",
    "                   'V45', 'V87', 'V258']\n",
    "\n",
    "CATEGORICAL_COLUMNS = ['card6', 'ProductCD', 'emaildomain']\n",
    "\n",
    "def one_hot_cat_column(feature_name, vocab):\n",
    "    return tf.feature_column.indicator_column(\n",
    "                tf.feature_column.categorical_column_with_vocabulary_list(feature_name,\n",
    "                                                                          vocab)\n",
    "                                             )"
   ]
  },
  {
   "cell_type": "code",
   "execution_count": 9,
   "id": "b78d853f",
   "metadata": {},
   "outputs": [],
   "source": [
    "feature_columns = []\n",
    "\n",
    "for feature_name in CATEGORICAL_COLUMNS:\n",
    "    # Need to one-hot encode categorical features.\n",
    "    vocabulary = dftrain[feature_name].unique()\n",
    "    feature_columns.append(one_hot_cat_column(feature_name,\n",
    "                                              vocabulary))\n",
    "\n",
    "for feature_name in NUMERIC_COLUMNS:\n",
    "    feature_columns.append(tf.feature_column.numeric_column(feature_name,\n",
    "                                                            dtype=tf.float32))"
   ]
  },
  {
   "cell_type": "code",
   "execution_count": 10,
   "id": "ceef03c0",
   "metadata": {},
   "outputs": [],
   "source": [
    "# Use entire batch since this is such a small dataset.\n",
    "NUM_EXAMPLES = len(y_train)\n",
    "\n",
    "def make_input_fn(X, y,\n",
    "                  n_epochs=None,\n",
    "                  shuffle=True):  # only for training set\n",
    "    \n",
    "    def input_fn():\n",
    "        dataset = tf.data.Dataset.from_tensor_slices((dict(X), y))\n",
    "        if shuffle:\n",
    "            dataset = dataset.shuffle(NUM_EXAMPLES)\n",
    "        # For training, cycle thru dataset as many times as need (n_epochs=None).\n",
    "        dataset = dataset.repeat(n_epochs)\n",
    "        # In memory training doesn't use batching.\n",
    "        dataset = dataset.batch(NUM_EXAMPLES)\n",
    "        return dataset\n",
    "    \n",
    "    return input_fn"
   ]
  },
  {
   "cell_type": "code",
   "execution_count": 11,
   "id": "837dfa59",
   "metadata": {},
   "outputs": [],
   "source": [
    "# Training and evaluation input functions.\n",
    "train_input_fn = make_input_fn(dftrain, y_train)\n",
    "\n",
    "eval_input_fn = make_input_fn(dfeval, y_eval,\n",
    "                              shuffle=False,  # not to shuffle test set\n",
    "                              n_epochs=3)"
   ]
  },
  {
   "cell_type": "markdown",
   "id": "f773a3a6",
   "metadata": {},
   "source": [
    "Logistic regression model in TensorFlow"
   ]
  },
  {
   "cell_type": "code",
   "execution_count": 12,
   "id": "c7cc3bef",
   "metadata": {},
   "outputs": [
    {
     "name": "stdout",
     "output_type": "stream",
     "text": [
      "accuracy                    0.923645\n",
      "accuracy_baseline           0.923645\n",
      "auc                         0.500000\n",
      "auc_precision_recall        0.076355\n",
      "average_loss            21341.796875\n",
      "label/mean                  0.076355\n",
      "loss                    21341.796875\n",
      "precision                   0.000000\n",
      "prediction/mean             0.000000\n",
      "recall                      0.000000\n",
      "global_step               100.000000\n",
      "dtype: float64\n"
     ]
    }
   ],
   "source": [
    "linear_est = tf.estimator.LinearClassifier(feature_columns)\n",
    "\n",
    "# Train model.\n",
    "linear_est.train(train_input_fn, max_steps=100)\n",
    "\n",
    "# Evaluation.\n",
    "result = linear_est.evaluate(eval_input_fn)\n",
    "clear_output()\n",
    "\n",
    "print(pd.Series(result))"
   ]
  },
  {
   "cell_type": "markdown",
   "id": "f3627195",
   "metadata": {},
   "source": [
    "Loss is weird. AUC=0.5; precision = recall = 0?\n",
    "Accuracy is hardly any better than random guess because our dataset is quite imbalanced, remember?\n",
    "\n",
    "Probably a linear model (like LR algorithm) is too simple for this problem/data (which might be having relatively higher complexity). Let's validate this by increasing the model complexity."
   ]
  },
  {
   "cell_type": "markdown",
   "id": "316bbe06",
   "metadata": {},
   "source": [
    "Boosted trees implmentation in TensorFlow"
   ]
  },
  {
   "cell_type": "code",
   "execution_count": 13,
   "id": "0e747796",
   "metadata": {},
   "outputs": [
    {
     "name": "stdout",
     "output_type": "stream",
     "text": [
      "accuracy                  0.960263\n",
      "accuracy_baseline         0.923645\n",
      "auc                       0.940103\n",
      "auc_precision_recall      0.765012\n",
      "average_loss              0.124008\n",
      "label/mean                0.076355\n",
      "loss                      0.124008\n",
      "precision                 0.871921\n",
      "prediction/mean           0.076882\n",
      "recall                    0.562160\n",
      "global_step             100.000000\n",
      "dtype: float64\n"
     ]
    }
   ],
   "source": [
    "# Since data fits into memory, use entire dataset per layer. It will be faster.\n",
    "# Above one batch is defined as the entire dataset.\n",
    "n_batches = 1\n",
    "est = tf.estimator.BoostedTreesClassifier(feature_columns,\n",
    "                                          n_batches_per_layer=n_batches)\n",
    "\n",
    "# The model will stop training once the specified number of trees is built, not\n",
    "# based on the number of steps.\n",
    "est.train(train_input_fn, max_steps=100)\n",
    "\n",
    "# Eval.\n",
    "result = est.evaluate(eval_input_fn)\n",
    "clear_output()\n",
    "\n",
    "print(pd.Series(result))"
   ]
  },
  {
   "cell_type": "markdown",
   "id": "abd35fc7",
   "metadata": {},
   "source": [
    "Looks relatively much better now :)"
   ]
  },
  {
   "cell_type": "markdown",
   "id": "5a8ed2ca",
   "metadata": {},
   "source": [
    "Plotting probabilities of predictions"
   ]
  },
  {
   "cell_type": "code",
   "execution_count": 14,
   "id": "e6529fcf",
   "metadata": {},
   "outputs": [
    {
     "name": "stdout",
     "output_type": "stream",
     "text": [
      "INFO:tensorflow:Calling model_fn.\n",
      "INFO:tensorflow:Done calling model_fn.\n",
      "INFO:tensorflow:Graph was finalized.\n",
      "INFO:tensorflow:Restoring parameters from /tmp/tmplbud88g6/model.ckpt-100\n",
      "INFO:tensorflow:Running local_init_op.\n",
      "INFO:tensorflow:Done running local_init_op.\n"
     ]
    },
    {
     "data": {
      "image/png": "[encoded data removed]",
      "text/plain": [
       "<Figure size 432x288 with 1 Axes>"
      ]
     },
     "metadata": {
      "needs_background": "light"
     },
     "output_type": "display_data"
    }
   ],
   "source": [
    "pred_dicts = list(est.predict(eval_input_fn))\n",
    "probs = pd.Series([pred['probabilities'][1] for pred in pred_dicts])\n",
    "\n",
    "probs.plot(kind='hist',\n",
    "           bins=20,\n",
    "           title='predicted probabilities')\n",
    "plt.show()"
   ]
  },
  {
   "cell_type": "markdown",
   "id": "9675961d",
   "metadata": {},
   "source": [
    "Note: Model does not seem confident at all, in most of its predictions. Red flag?"
   ]
  },
  {
   "cell_type": "markdown",
   "id": "6a760eb1",
   "metadata": {},
   "source": [
    "Reference for original tutorial: https://www.tensorflow.org/tutorials/estimator/boosted_trees"
   ]
  },
  {
   "cell_type": "markdown",
   "id": "a9fa6a15",
   "metadata": {},
   "source": [
    "Another option worth trying seems to be 'Decision Forests in TF'"
   ]
  },
  {
   "cell_type": "markdown",
   "id": "1c8dd400",
   "metadata": {},
   "source": [
    "Reference: https://www.tensorflow.org/decision_forests"
   ]
  }
 ],
 "metadata": {
  "environment": {
   "name": "tf2-gpu.2-3.m65",
   "type": "gcloud",
   "uri": "gcr.io/deeplearning-platform-release/tf2-gpu.2-3:m65"
  },
  "kernelspec": {
   "display_name": "Python 3",
   "language": "python",
   "name": "python3"
  },
  "language_info": {
   "codemirror_mode": {
    "name": "ipython",
    "version": 3
   },
   "file_extension": ".py",
   "mimetype": "text/x-python",
   "name": "python",
   "nbconvert_exporter": "python",
   "pygments_lexer": "ipython3",
   "version": "3.7.10"
  }
 },
 "nbformat": 4,
 "nbformat_minor": 5
}
