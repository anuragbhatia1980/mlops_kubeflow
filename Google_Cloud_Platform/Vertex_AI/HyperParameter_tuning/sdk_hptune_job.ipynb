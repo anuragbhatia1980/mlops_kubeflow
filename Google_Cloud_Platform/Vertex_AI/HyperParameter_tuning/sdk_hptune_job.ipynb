{
 "cells": [
  {
   "cell_type": "code",
   "execution_count": 1,
   "id": "adbd92d7",
   "metadata": {},
   "outputs": [],
   "source": [
    "# !pip3 install google-cloud-aiplatform --upgrade --user"
   ]
  },
  {
   "cell_type": "code",
   "execution_count": 2,
   "id": "929a89a6",
   "metadata": {},
   "outputs": [],
   "source": [
    "from google.cloud import aiplatform\n",
    "from google.cloud.aiplatform import hyperparameter_tuning as hpt"
   ]
  },
  {
   "cell_type": "code",
   "execution_count": 3,
   "id": "a40c0291",
   "metadata": {},
   "outputs": [],
   "source": [
    "# The spec of the worker pools including machine type and Docker image\n",
    "# Be sure to replace IMAGE_URI with the path to your Docker image in GCR\n",
    "worker_pool_specs = [{\n",
    "                    \"machine_spec\": {\n",
    "                                    \"machine_type\": \"n1-standard-4\",\n",
    "                                    \"accelerator_type\": \"NVIDIA_TESLA_T4\",\n",
    "                                    \"accelerator_count\": 1\n",
    "                                    },\n",
    "                    \"replica_count\": 1,\n",
    "                    \"container_spec\": {\n",
    "                                        \"image_uri\": \"gcr.io/kubeflow-1-0-2/card-fraud-vertex-ai:hypertune\"  # <-- Change this\n",
    "                                      }\n",
    "                    }]\n",
    "\n",
    "\n",
    "# Dicionary representing metrics to optimize.\n",
    "# The dictionary key is the metric_id, which is reported by your training job,\n",
    "# And the dictionary value is the optimization goal of the metric.\n",
    "metric_spec={'roc_auc':'maximize'}\n",
    "\n",
    "# Dictionary representing parameters to optimize.\n",
    "# The dictionary key is the parameter_id, which is passed into your training\n",
    "# job as a command line argument,\n",
    "# And the dictionary value is the parameter specification of the metric.\n",
    "parameter_spec = {\n",
    "                \"learning_rate\": hpt.DoubleParameterSpec(min=0.001, max=0.1,  # float\n",
    "                                                         scale=\"log\"),\n",
    "                \"max_depth\": hpt.DiscreteParameterSpec(values=[5, 10, 15, 20],  # int\n",
    "                                                       scale=None),\n",
    "                \"scale_pos_weight\": hpt.DiscreteParameterSpec(values=[1, 3, 5, 7],  # int\n",
    "                                                              scale=None)\n",
    "                }"
   ]
  },
  {
   "cell_type": "code",
   "execution_count": 4,
   "id": "d2fe85a4",
   "metadata": {},
   "outputs": [],
   "source": [
    "# Replace YOUR_BUCKET\n",
    "my_custom_job = aiplatform.CustomJob(display_name='card-fraud-xgboost-hptune',\n",
    "                                     worker_pool_specs=worker_pool_specs,\n",
    "                                     staging_bucket='gs://card-fraud-hpt')  # <-- Change this"
   ]
  },
  {
   "cell_type": "code",
   "execution_count": 5,
   "id": "812466bf",
   "metadata": {},
   "outputs": [
    {
     "name": "stdout",
     "output_type": "stream",
     "text": [
      "INFO:google.cloud.aiplatform.jobs:Creating HyperparameterTuningJob\n",
      "INFO:google.cloud.aiplatform.jobs:HyperparameterTuningJob created. Resource name: projects/9118975290/locations/us-central1/hyperparameterTuningJobs/4621269361775083520\n",
      "INFO:google.cloud.aiplatform.jobs:To use this HyperparameterTuningJob in another session:\n",
      "INFO:google.cloud.aiplatform.jobs:hpt_job = aiplatform.HyperparameterTuningJob.get('projects/9118975290/locations/us-central1/hyperparameterTuningJobs/4621269361775083520')\n",
      "INFO:google.cloud.aiplatform.jobs:View HyperparameterTuningJob:\n",
      "https://console.cloud.google.com/ai/platform/locations/us-central1/training/4621269361775083520?project=9118975290\n",
      "INFO:google.cloud.aiplatform.jobs:HyperparameterTuningJob projects/9118975290/locations/us-central1/hyperparameterTuningJobs/4621269361775083520 current state:\n",
      "JobState.JOB_STATE_RUNNING\n",
      "INFO:google.cloud.aiplatform.jobs:HyperparameterTuningJob projects/9118975290/locations/us-central1/hyperparameterTuningJobs/4621269361775083520 current state:\n",
      "JobState.JOB_STATE_RUNNING\n",
      "INFO:google.cloud.aiplatform.jobs:HyperparameterTuningJob projects/9118975290/locations/us-central1/hyperparameterTuningJobs/4621269361775083520 current state:\n",
      "JobState.JOB_STATE_RUNNING\n",
      "INFO:google.cloud.aiplatform.jobs:HyperparameterTuningJob projects/9118975290/locations/us-central1/hyperparameterTuningJobs/4621269361775083520 current state:\n",
      "JobState.JOB_STATE_RUNNING\n",
      "INFO:google.cloud.aiplatform.jobs:HyperparameterTuningJob projects/9118975290/locations/us-central1/hyperparameterTuningJobs/4621269361775083520 current state:\n",
      "JobState.JOB_STATE_RUNNING\n",
      "INFO:google.cloud.aiplatform.jobs:HyperparameterTuningJob projects/9118975290/locations/us-central1/hyperparameterTuningJobs/4621269361775083520 current state:\n",
      "JobState.JOB_STATE_RUNNING\n",
      "INFO:google.cloud.aiplatform.jobs:HyperparameterTuningJob projects/9118975290/locations/us-central1/hyperparameterTuningJobs/4621269361775083520 current state:\n",
      "JobState.JOB_STATE_RUNNING\n",
      "INFO:google.cloud.aiplatform.jobs:HyperparameterTuningJob projects/9118975290/locations/us-central1/hyperparameterTuningJobs/4621269361775083520 current state:\n",
      "JobState.JOB_STATE_RUNNING\n",
      "INFO:google.cloud.aiplatform.jobs:HyperparameterTuningJob projects/9118975290/locations/us-central1/hyperparameterTuningJobs/4621269361775083520 current state:\n",
      "JobState.JOB_STATE_RUNNING\n",
      "INFO:google.cloud.aiplatform.jobs:HyperparameterTuningJob projects/9118975290/locations/us-central1/hyperparameterTuningJobs/4621269361775083520 current state:\n",
      "JobState.JOB_STATE_RUNNING\n",
      "INFO:google.cloud.aiplatform.jobs:HyperparameterTuningJob projects/9118975290/locations/us-central1/hyperparameterTuningJobs/4621269361775083520 current state:\n",
      "JobState.JOB_STATE_SUCCEEDED\n",
      "INFO:google.cloud.aiplatform.jobs:HyperparameterTuningJob run completed. Resource name: projects/9118975290/locations/us-central1/hyperparameterTuningJobs/4621269361775083520\n"
     ]
    }
   ],
   "source": [
    "hp_job = aiplatform.HyperparameterTuningJob(\n",
    "                                            display_name='card-fraud-xgboost-hptune',\n",
    "                                            custom_job=my_custom_job,\n",
    "                                            metric_spec=metric_spec,\n",
    "                                            parameter_spec=parameter_spec,\n",
    "                                            max_trial_count=15,\n",
    "                                            parallel_trial_count=3\n",
    "                                            )\n",
    "\n",
    "hp_job.run()"
   ]
  },
  {
   "cell_type": "code",
   "execution_count": null,
   "id": "21cbf60c",
   "metadata": {},
   "outputs": [],
   "source": []
  }
 ],
 "metadata": {
  "environment": {
   "name": "tf2-gpu.2-3.m65",
   "type": "gcloud",
   "uri": "gcr.io/deeplearning-platform-release/tf2-gpu.2-3:m65"
  },
  "kernelspec": {
   "display_name": "Python 3",
   "language": "python",
   "name": "python3"
  },
  "language_info": {
   "codemirror_mode": {
    "name": "ipython",
    "version": 3
   },
   "file_extension": ".py",
   "mimetype": "text/x-python",
   "name": "python",
   "nbconvert_exporter": "python",
   "pygments_lexer": "ipython3",
   "version": "3.7.10"
  }
 },
 "nbformat": 4,
 "nbformat_minor": 5
}
